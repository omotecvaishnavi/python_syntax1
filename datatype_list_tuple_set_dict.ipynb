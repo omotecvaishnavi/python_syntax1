{
 "cells": [
  {
   "cell_type": "markdown",
   "id": "b1e476a5",
   "metadata": {},
   "source": [
    "## Datatype"
   ]
  },
  {
   "cell_type": "code",
   "execution_count": null,
   "id": "52700840",
   "metadata": {},
   "outputs": [],
   "source": [
    "Variables can store data of different types, and different types can do different things.\n",
    "\n",
    "Python has the following data types built-in by default, in these categories:"
   ]
  },
  {
   "cell_type": "markdown",
   "id": "f030eaa2",
   "metadata": {},
   "source": [
    "## List "
   ]
  },
  {
   "cell_type": "code",
   "execution_count": null,
   "id": "37c1194b",
   "metadata": {},
   "outputs": [],
   "source": [
    "1] Lists are used to store multiple items in a single variable.\n",
    "2] List are enclose in [ ]\n",
    "3] List are mutable / changeable datatype   >> update, delete \n",
    "4] List are ordered datatype\n",
    "5] List are allows duplicate members"
   ]
  },
  {
   "cell_type": "code",
   "execution_count": 7,
   "id": "934245b9",
   "metadata": {},
   "outputs": [
    {
     "data": {
      "text/plain": [
       "list"
      ]
     },
     "execution_count": 7,
     "metadata": {},
     "output_type": "execute_result"
    }
   ],
   "source": [
    "list1=[11,22,33,44,55]   # list datatype\n",
    "type(list1)"
   ]
  },
  {
   "cell_type": "code",
   "execution_count": 12,
   "id": "2fd1da66",
   "metadata": {},
   "outputs": [
    {
     "data": {
      "text/plain": [
       "list"
      ]
     },
     "execution_count": 12,
     "metadata": {},
     "output_type": "execute_result"
    }
   ],
   "source": [
    "list2=[\"*\",\"english\",\"science\",222,22.4,3+4j]\n",
    "type(list2)"
   ]
  },
  {
   "cell_type": "code",
   "execution_count": 9,
   "id": "402f54d6",
   "metadata": {},
   "outputs": [
    {
     "data": {
      "text/plain": [
       "list"
      ]
     },
     "execution_count": 9,
     "metadata": {},
     "output_type": "execute_result"
    }
   ],
   "source": [
    "list2=[101,  \"Rohit\",  \"Sharma\",  8,  \"English\"]\n",
    "#      int    string     string  int    string\n",
    "#      rollno  name     surname  std    subject\n",
    "type(list2)"
   ]
  },
  {
   "cell_type": "code",
   "execution_count": 11,
   "id": "e44e024a",
   "metadata": {},
   "outputs": [
    {
     "data": {
      "text/plain": [
       "list"
      ]
     },
     "execution_count": 11,
     "metadata": {},
     "output_type": "execute_result"
    }
   ],
   "source": [
    "list3=[11,22,33,44,55,\"student\",\"rollno\",(2,4,6),{2,3}]  # useing multiple datatype \n",
    "type(list3)"
   ]
  },
  {
   "cell_type": "markdown",
   "id": "aea60771",
   "metadata": {},
   "source": [
    "### Tuple "
   ]
  },
  {
   "cell_type": "code",
   "execution_count": null,
   "id": "30a06dc6",
   "metadata": {},
   "outputs": [],
   "source": [
    "1] Tuple are enclose in ( )\n",
    "2] Tuples are used to store multiple items in a single variable.\n",
    "3] Tuple are immutable datatype\n",
    "4] Tuple are ordered datatype\n",
    "5] Tuple are allows duplicate members"
   ]
  },
  {
   "cell_type": "code",
   "execution_count": null,
   "id": "7dc4243f",
   "metadata": {},
   "outputs": [],
   "source": [
    "Ordered\n",
    "When we say that tuples are ordered, it means that the items have a defined order, and that order will not change.\n",
    "\n",
    "Unchangeable\n",
    "Tuples are unchangeable, meaning that we cannot change, add or remove items after the tuple has been created.\n",
    "\n",
    "Allow Duplicates\n",
    "Since tuples are indexed, they can have items with the same value:"
   ]
  },
  {
   "cell_type": "code",
   "execution_count": 16,
   "id": "e759699b",
   "metadata": {},
   "outputs": [
    {
     "data": {
      "text/plain": [
       "tuple"
      ]
     },
     "execution_count": 16,
     "metadata": {},
     "output_type": "execute_result"
    }
   ],
   "source": [
    "tuple_1=(11,22,33,44,55)\n",
    "type(tuple_1)"
   ]
  },
  {
   "cell_type": "code",
   "execution_count": 20,
   "id": "2ff89b11",
   "metadata": {},
   "outputs": [
    {
     "data": {
      "text/plain": [
       "tuple"
      ]
     },
     "execution_count": 20,
     "metadata": {},
     "output_type": "execute_result"
    }
   ],
   "source": [
    " tuple_1=(11,22,\"33\",[44],(55))\n",
    "type(tuple_1)"
   ]
  },
  {
   "cell_type": "markdown",
   "id": "14f3b789",
   "metadata": {},
   "source": [
    "## Set"
   ]
  },
  {
   "cell_type": "code",
   "execution_count": null,
   "id": "22c6f4bb",
   "metadata": {},
   "outputs": [],
   "source": [
    "1] Set enclose in { }\n",
    "2] Unordered means that the items in a set do not have a defined order.\n",
    "3] Unchangeable/immutable\n",
    "   Set items are unchangeable, meaning that we cannot change the items after the set has been created.\n",
    "   Once a set is created, you cannot change its items, but you can remove items and add new items.\n",
    "4] Duplicates Not Allowed\n",
    "   Sets cannot have two items with the same value."
   ]
  },
  {
   "cell_type": "code",
   "execution_count": 21,
   "id": "a3a707fc",
   "metadata": {},
   "outputs": [
    {
     "data": {
      "text/plain": [
       "{'apple', 'banana', 'cherry'}"
      ]
     },
     "execution_count": 21,
     "metadata": {},
     "output_type": "execute_result"
    }
   ],
   "source": [
    "thisset = {\"apple\", \"banana\", \"cherry\", \"apple\"}\n",
    "thisset"
   ]
  },
  {
   "cell_type": "code",
   "execution_count": 25,
   "id": "864ca9b0",
   "metadata": {},
   "outputs": [
    {
     "name": "stdout",
     "output_type": "stream",
     "text": [
      "{'cherry', 2, True, 'banana', 'apple'}\n"
     ]
    }
   ],
   "source": [
    "thisset1 = {\"apple\", \"banana\", \"cherry\", True, 1, 2}\n",
    "\n",
    "print(thisset1)"
   ]
  },
  {
   "cell_type": "markdown",
   "id": "dc46a74c",
   "metadata": {},
   "source": [
    "## Dictionary"
   ]
  },
  {
   "cell_type": "code",
   "execution_count": null,
   "id": "37d4467f",
   "metadata": {},
   "outputs": [],
   "source": [
    "1] Dictionary are enclose in { } , containing keys and value pair\n",
    "2] Dictionary items are ordered\n",
    "3] Dictionary are immutable datatype\n",
    "4] Dictionary does not allow duplicates element\n",
    "5] Dictionary items are presented in key:value pairs"
   ]
  },
  {
   "cell_type": "code",
   "execution_count": 28,
   "id": "5740bd9d",
   "metadata": {},
   "outputs": [
    {
     "name": "stdout",
     "output_type": "stream",
     "text": [
      "{'english': '80', 'marathi': '60', 'chemistry': '50'}\n"
     ]
    },
    {
     "data": {
      "text/plain": [
       "dict"
      ]
     },
     "execution_count": 28,
     "metadata": {},
     "output_type": "execute_result"
    }
   ],
   "source": [
    "thisdict = {\"english\": \"80\",\n",
    "            \"marathi\": \"60\",\n",
    "            \"chemistry\":\"50\"}\n",
    "print(thisdict)\n",
    "type(thisdict)"
   ]
  },
  {
   "cell_type": "code",
   "execution_count": 33,
   "id": "8f36e13d",
   "metadata": {},
   "outputs": [
    {
     "name": "stdout",
     "output_type": "stream",
     "text": [
      "{'english': 88, 'marathi': 99, 'chemistry': 50}\n"
     ]
    },
    {
     "data": {
      "text/plain": [
       "dict"
      ]
     },
     "execution_count": 33,
     "metadata": {},
     "output_type": "execute_result"
    }
   ],
   "source": [
    "thisdict = {\"english\": 88,\n",
    "            \"marathi\": 99,\n",
    "            \"chemistry\":50}\n",
    "print(thisdict)\n",
    "type(thisdict)"
   ]
  }
 ],
 "metadata": {
  "kernelspec": {
   "display_name": "Python 3 (ipykernel)",
   "language": "python",
   "name": "python3"
  },
  "language_info": {
   "codemirror_mode": {
    "name": "ipython",
    "version": 3
   },
   "file_extension": ".py",
   "mimetype": "text/x-python",
   "name": "python",
   "nbconvert_exporter": "python",
   "pygments_lexer": "ipython3",
   "version": "3.9.1"
  }
 },
 "nbformat": 4,
 "nbformat_minor": 5
}
